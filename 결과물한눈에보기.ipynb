{
 "cells": [
  {
   "cell_type": "code",
   "execution_count": 1,
   "id": "a5792089-ea2b-434a-afe2-7aa50bb89c3e",
   "metadata": {
    "tags": []
   },
   "outputs": [],
   "source": [
    "# !pip install tabulate"
   ]
  },
  {
   "cell_type": "code",
   "execution_count": 2,
   "id": "c3669d41-ee41-4961-82f8-fb778b12a541",
   "metadata": {
    "tags": []
   },
   "outputs": [],
   "source": [
    "import pandas as pd"
   ]
  },
  {
   "cell_type": "code",
   "execution_count": 3,
   "id": "7e9d99ca-1175-4d75-b9b2-04f119960ad2",
   "metadata": {
    "tags": []
   },
   "outputs": [],
   "source": [
    "from glob import glob"
   ]
  },
  {
   "cell_type": "code",
   "execution_count": 4,
   "id": "25a7e405-1368-46aa-ba51-0bc7a98962df",
   "metadata": {
    "tags": []
   },
   "outputs": [],
   "source": [
    "import json"
   ]
  },
  {
   "cell_type": "code",
   "execution_count": 5,
   "id": "852c83ff-f39c-41a4-b6f9-05f22ad06e9b",
   "metadata": {
    "tags": []
   },
   "outputs": [],
   "source": [
    "# results/korean_origin_bench/20b/00_shot.json\n",
    "def get_df_klue(path, model_name=''):\n",
    "    data = []\n",
    "    for i in ['0', '5', '10', '50']:\n",
    "        shot = f'{path}/{i}_shot.json'\n",
    "        try:\n",
    "            data.append({f'{k}': v.get('f1') or v.get('macro_f1') or v.get('acc') for k, v in json.load(open(shot))['results'].items()})\n",
    "        except FileNotFoundError:\n",
    "            pass\n",
    "    df = pd.DataFrame(data, index=[0, 5, 10, 50][:len(data)]).T\n",
    "    print(df.to_markdown())\n",
    "    return df"
   ]
  },
  {
   "cell_type": "code",
   "execution_count": 6,
   "id": "6f5b870a-58e3-4a21-b860-cc406f1eed8f",
   "metadata": {
    "tags": []
   },
   "outputs": [],
   "source": [
    "# get_df_klue('results/klue_etc_bench/home/jovyan/beomi/llama2-koen-13b/60b', 'llama2-koen-13b')"
   ]
  },
  {
   "cell_type": "code",
   "execution_count": 7,
   "id": "5d226502-7541-427b-8b36-bec5489ca296",
   "metadata": {},
   "outputs": [
    {
     "data": {
      "text/plain": [
       "['results/all/42MARU/GenAI-llama2-ko-en-platypus',\n",
       " 'results/all/EleutherAI/polyglot-ko-12.8b',\n",
       " 'results/all/HumanF-MarkrAI/pub-llama-13B-v3',\n",
       " 'results/all/KT-AI/midm-bitext-S-7B-inst-v1',\n",
       " 'results/all/hyunseoki/ko-en-llama2-13b',\n",
       " 'results/all/jyoung105/KoR-Orca-Platypus-13B-neft',\n",
       " 'results/all/kyujinpy/KoR-Orca-Platypus-13B']"
      ]
     },
     "execution_count": 7,
     "metadata": {},
     "output_type": "execute_result"
    }
   ],
   "source": [
    "various_models = sorted(glob('results/all/*/*'))\n",
    "various_models"
   ]
  },
  {
   "cell_type": "code",
   "execution_count": 8,
   "id": "a93c00e7-941d-4149-9efe-bd22e66a039e",
   "metadata": {},
   "outputs": [
    {
     "name": "stdout",
     "output_type": "stream",
     "text": [
      "results/all/42MARU/GenAI-llama2-ko-en-platypus\n",
      "|                       |        0 |        5 |       10 |\n",
      "|:----------------------|---------:|---------:|---------:|\n",
      "| kobest_boolq          | 0.75496  | 0.813542 | 0.826657 |\n",
      "| kobest_copa           | 0.789858 | 0.8109   | 0.812864 |\n",
      "| kobest_hellaswag      | 0.46552  | 0.481476 | 0.487711 |\n",
      "| kobest_sentineg       | 0.599451 | 0.942065 | 0.952136 |\n",
      "| kohatespeech          | 0.409181 | 0.368872 | 0.407597 |\n",
      "| kohatespeech_apeach   | 0.340951 | 0.599693 | 0.63309  |\n",
      "| kohatespeech_gen_bias | 0.137929 | 0.500808 | 0.47299  |\n",
      "| korunsmile            | 0.4154   | 0.343849 | 0.385809 |\n",
      "| nsmc                  | 0.58484  | 0.8477   | 0.86622  |\n",
      "| pawsx_ko              | 0.5405   | 0.531    | 0.535    |\n",
      "\n",
      "results/all/EleutherAI/polyglot-ko-12.8b\n",
      "|                       |        0 |        5 |       10 |       50 |\n",
      "|:----------------------|---------:|---------:|---------:|---------:|\n",
      "| kobest_boolq          | 0.39744  | 0.550444 | 0.571613 | 0.581169 |\n",
      "| kobest_copa           | 0.779573 | 0.803799 | 0.796624 | 0.824853 |\n",
      "| kobest_hellaswag      | 0.493165 | 0.499706 | 0.485373 | 0.502159 |\n",
      "| kobest_sentineg       | 0.502426 | 0.962201 | 0.977329 | 0.979849 |\n",
      "| kohatespeech          | 0.264347 | 0.370575 | 0.284216 | 0.299345 |\n",
      "| kohatespeech_apeach   | 0.380782 | 0.503566 | 0.476384 | 0.445471 |\n",
      "| kohatespeech_gen_bias | 0.169721 | 0.469281 | 0.485368 | 0.457998 |\n",
      "| korunsmile            | 0.396283 | 0.334776 | 0.32845  | 0.292387 |\n",
      "| nsmc                  | 0.56508  | 0.79774  | 0.8291   | 0.87034  |\n",
      "| pawsx_ko              | 0.522    | 0.509    | 0.498    | 0.5505   |\n",
      "\n",
      "results/all/HumanF-MarkrAI/pub-llama-13B-v3\n",
      "|                       |        0 |        5 |       10 |       50 |\n",
      "|:----------------------|---------:|---------:|---------:|---------:|\n",
      "| kobest_boolq          | 0.334282 | 0.545224 | 0.536021 | 0.543549 |\n",
      "| kobest_copa           | 0.755683 | 0.774692 | 0.778591 | 0.795791 |\n",
      "| kobest_hellaswag      | 0.446513 | 0.455871 | 0.455861 | 0.466838 |\n",
      "| kobest_sentineg       | 0.752343 | 0.92695  | 0.949596 | 0.949622 |\n",
      "| kohatespeech          | 0.424856 | 0.365288 | 0.394254 | 0.364301 |\n",
      "| kohatespeech_apeach   | 0.337667 | 0.578401 | 0.637884 | 0.723222 |\n",
      "| kohatespeech_gen_bias | 0.124535 | 0.475542 | 0.505903 | 0.502546 |\n",
      "| korunsmile            | 0.423588 | 0.358856 | 0.395571 | 0.425031 |\n",
      "| nsmc                  | 0.65294  | 0.83548  | 0.85876  | 0.87318  |\n",
      "| pawsx_ko              | 0.532    | 0.544    | 0.535    | 0.5495   |\n",
      "\n",
      "results/all/KT-AI/midm-bitext-S-7B-inst-v1\n",
      "|                       |        0 |        5 |       10 |\n",
      "|:----------------------|---------:|---------:|---------:|\n",
      "| kobest_boolq          | 0.842593 | 0.771203 | 0.758757 |\n",
      "| kobest_copa           | 0.782635 | 0.837907 | 0.836863 |\n",
      "| kobest_hellaswag      | 0.488192 | 0.495704 | 0.484098 |\n",
      "| kobest_sentineg       | 0.45601  | 0.977325 | 0.964734 |\n",
      "| kohatespeech          | 0.303697 | 0.408802 | 0.382379 |\n",
      "| kohatespeech_apeach   | 0.4573   | 0.811319 | 0.813246 |\n",
      "| kohatespeech_gen_bias | 0.156223 | 0.539454 | 0.545435 |\n",
      "| korunsmile            | 0.374452 | 0.333345 | 0.320071 |\n",
      "| nsmc                  | 0.54434  | 0.86494  | 0.866    |\n",
      "| pawsx_ko              | 0.521    | 0.544    | 0.546    |\n",
      "\n",
      "results/all/hyunseoki/ko-en-llama2-13b\n",
      "|                       |        0 |        5 |       10 |       50 |\n",
      "|:----------------------|---------:|---------:|---------:|---------:|\n",
      "| kobest_boolq          | 0.595474 | 0.730298 | 0.740454 | 0.735644 |\n",
      "| kobest_copa           | 0.776812 | 0.788846 | 0.804878 | 0.811973 |\n",
      "| kobest_hellaswag      | 0.470698 | 0.483454 | 0.475882 | 0.488026 |\n",
      "| kobest_sentineg       | 0.522626 | 0.949622 | 0.95466  | 0.969773 |\n",
      "| kohatespeech          | 0.392963 | 0.369294 | 0.36653  | 0.342853 |\n",
      "| kohatespeech_apeach   | 0.342078 | 0.575979 | 0.586214 | 0.589353 |\n",
      "| kohatespeech_gen_bias | 0.138892 | 0.497935 | 0.469296 | 0.551062 |\n",
      "| korunsmile            | 0.432898 | 0.346927 | 0.388364 | 0.436292 |\n",
      "| nsmc                  | 0.5992   | 0.84662  | 0.8648   | 0.87848  |\n",
      "| pawsx_ko              | 0.4975   | 0.5275   | 0.531    | 0.5225   |\n",
      "\n",
      "results/all/jyoung105/KoR-Orca-Platypus-13B-neft\n",
      "|                       |        0 |        5 |       10 |       50 |\n",
      "|:----------------------|---------:|---------:|---------:|---------:|\n",
      "| kobest_boolq          | 0.655843 | 0.354271 | 0.363429 | 0.356151 |\n",
      "| kobest_copa           | 0.754733 | 0.768648 | 0.782922 | 0.79992  |\n",
      "| kobest_hellaswag      | 0.455897 | 0.449564 | 0.457505 | 0.442365 |\n",
      "| kobest_sentineg       | 0.532725 | 0.949614 | 0.95214  | 0.962216 |\n",
      "| kohatespeech          | 0.394561 | 0.360054 | 0.360721 | 0.320941 |\n",
      "| kohatespeech_apeach   | 0.344554 | 0.384063 | 0.36931  | 0.359277 |\n",
      "| kohatespeech_gen_bias | 0.136255 | 0.398311 | 0.333205 | 0.364247 |\n",
      "| korunsmile            | 0.408954 | 0.342518 | 0.374663 | 0.382229 |\n",
      "| nsmc                  | 0.59698  | 0.85924  | 0.87258  | 0.88072  |\n",
      "| pawsx_ko              | 0.5225   | 0.5515   | 0.5435   | 0.5515   |\n",
      "\n",
      "results/all/kyujinpy/KoR-Orca-Platypus-13B\n",
      "|                       |        0 |        5 |       10 |\n",
      "|:----------------------|---------:|---------:|---------:|\n",
      "| kobest_boolq          | 0.334282 | 0.5338   | 0.531394 |\n",
      "| kobest_copa           | 0.755683 | 0.773707 | 0.778591 |\n",
      "| kobest_hellaswag      | 0.446513 | 0.455871 | 0.457967 |\n",
      "| kobest_sentineg       | 0.752343 | 0.92695  | 0.949596 |\n",
      "| kohatespeech          | 0.422185 | 0.365288 | 0.3971   |\n",
      "| kohatespeech_apeach   | 0.337667 | 0.571251 | 0.622383 |\n",
      "| kohatespeech_gen_bias | 0.124535 | 0.484719 | 0.507788 |\n",
      "| korunsmile            | 0.423391 | 0.358939 | 0.396573 |\n",
      "| nsmc                  | 0.65288  | 0.8356   | 0.85846  |\n",
      "| pawsx_ko              | 0.534    | 0.5445   | 0.5345   |\n",
      "\n"
     ]
    }
   ],
   "source": [
    "for model in various_models:\n",
    "    print(model)\n",
    "    get_df_klue(model)\n",
    "    print()"
   ]
  },
  {
   "cell_type": "code",
   "execution_count": null,
   "id": "071411b4-1497-48d0-8440-2abda75dd499",
   "metadata": {},
   "outputs": [],
   "source": []
  },
  {
   "cell_type": "code",
   "execution_count": null,
   "id": "821b7c25-8f9e-4598-be7c-66df019331ec",
   "metadata": {},
   "outputs": [],
   "source": []
  },
  {
   "cell_type": "code",
   "execution_count": null,
   "id": "d3048c2e-d84e-4f00-ba8b-ef5e7ccb8b70",
   "metadata": {},
   "outputs": [],
   "source": []
  }
 ],
 "metadata": {
  "kernelspec": {
   "display_name": "Python 3 (ipykernel)",
   "language": "python",
   "name": "python3"
  },
  "language_info": {
   "codemirror_mode": {
    "name": "ipython",
    "version": 3
   },
   "file_extension": ".py",
   "mimetype": "text/x-python",
   "name": "python",
   "nbconvert_exporter": "python",
   "pygments_lexer": "ipython3",
   "version": "3.11.5"
  }
 },
 "nbformat": 4,
 "nbformat_minor": 5
}
