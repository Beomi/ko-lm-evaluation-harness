{
 "cells": [
  {
   "cell_type": "code",
   "execution_count": 1,
   "id": "c3669d41-ee41-4961-82f8-fb778b12a541",
   "metadata": {},
   "outputs": [],
   "source": [
    "import pandas as pd"
   ]
  },
  {
   "cell_type": "code",
   "execution_count": 2,
   "id": "7e9d99ca-1175-4d75-b9b2-04f119960ad2",
   "metadata": {},
   "outputs": [],
   "source": [
    "from glob import glob"
   ]
  },
  {
   "cell_type": "code",
   "execution_count": 3,
   "id": "25a7e405-1368-46aa-ba51-0bc7a98962df",
   "metadata": {},
   "outputs": [],
   "source": [
    "import json"
   ]
  },
  {
   "cell_type": "code",
   "execution_count": 4,
   "id": "4dbcf582-08ab-4525-84ec-9c85aa4f5db6",
   "metadata": {},
   "outputs": [
    {
     "name": "stdout",
     "output_type": "stream",
     "text": [
      "0b_0_shot.json\t 20b_10_shot.json\t5_shot.json\t     nsmc_50_shot.json\n",
      "0b_10_shot.json  20b_50_shot.json\tbloom\t\t     nsmc_5_shot.json\n",
      "0b_50_shot.json  20b_5_shot.json\tkobest_bench\t     opt\n",
      "0b_5_shot.json\t 20b_nsmc_0_shot.json\tkorean_origin_bench  xglm\n",
      "0_shot.json\t 20b_nsmc_10_shot.json\tllama\n",
      "10_shot.json\t 20b_nsmc_5_shot.json\tmpt\n",
      "20b_0_shot.json  50_shot.json\t\tnsmc_10_shot.json\n"
     ]
    }
   ],
   "source": [
    "!ls ./results/"
   ]
  },
  {
   "cell_type": "code",
   "execution_count": 5,
   "id": "d0a6366a-ece0-49c1-b63c-fd692958e6f9",
   "metadata": {},
   "outputs": [],
   "source": [
    "# !cat ./results/20b_0_shot.json"
   ]
  },
  {
   "cell_type": "code",
   "execution_count": 6,
   "id": "f01842e7-663d-432f-99d2-f9661c8b8d16",
   "metadata": {},
   "outputs": [],
   "source": [
    "# ckpts = [0, 20] # N billions, 0 == Llama original ckpt(w/o 한글토크나이저)"
   ]
  },
  {
   "cell_type": "code",
   "execution_count": 7,
   "id": "be799a46-231a-4cad-9eb1-115b88b645a4",
   "metadata": {},
   "outputs": [],
   "source": [
    "def get_df(ckpt):\n",
    "    data = []\n",
    "    for i in [0, 5, 10, 50]:\n",
    "        shot = f'./results/kobest_bench/{ckpt}b/{i}_shot.json'\n",
    "        try:\n",
    "            data.append({f'{ckpt}b_{k}': v['macro_f1'] for k, v in json.load(open(shot))['results'].items()})\n",
    "        except FileNotFoundError:\n",
    "            shot = f'./results/{ckpt}b_{i}_shot.json'\n",
    "            try:\n",
    "                data.append({f'{ckpt}b_{k}': v['macro_f1'] for k, v in json.load(open(shot))['results'].items()})\n",
    "            except FileNotFoundError:\n",
    "                pass\n",
    "    return pd.DataFrame(data, index=[0, 5, 10, 50][:len(data)]).T"
   ]
  },
  {
   "cell_type": "code",
   "execution_count": 8,
   "id": "d8a00fb4-45a0-497d-9ee5-4794e892c6cb",
   "metadata": {},
   "outputs": [
    {
     "data": {
      "text/html": [
       "<div>\n",
       "<style scoped>\n",
       "    .dataframe tbody tr th:only-of-type {\n",
       "        vertical-align: middle;\n",
       "    }\n",
       "\n",
       "    .dataframe tbody tr th {\n",
       "        vertical-align: top;\n",
       "    }\n",
       "\n",
       "    .dataframe thead th {\n",
       "        text-align: right;\n",
       "    }\n",
       "</style>\n",
       "<table border=\"1\" class=\"dataframe\">\n",
       "  <thead>\n",
       "    <tr style=\"text-align: right;\">\n",
       "      <th></th>\n",
       "      <th>0</th>\n",
       "      <th>5</th>\n",
       "      <th>10</th>\n",
       "      <th>50</th>\n",
       "    </tr>\n",
       "  </thead>\n",
       "  <tbody>\n",
       "    <tr>\n",
       "      <th>0b_kobest_boolq</th>\n",
       "      <td>0.352050</td>\n",
       "      <td>0.563238</td>\n",
       "      <td>0.474788</td>\n",
       "      <td>0.419222</td>\n",
       "    </tr>\n",
       "    <tr>\n",
       "      <th>0b_kobest_copa</th>\n",
       "      <td>0.562033</td>\n",
       "      <td>0.575982</td>\n",
       "      <td>0.576216</td>\n",
       "      <td>0.595532</td>\n",
       "    </tr>\n",
       "    <tr>\n",
       "      <th>0b_kobest_hellaswag</th>\n",
       "      <td>0.415390</td>\n",
       "      <td>0.431382</td>\n",
       "      <td>0.421342</td>\n",
       "      <td>0.442003</td>\n",
       "    </tr>\n",
       "    <tr>\n",
       "      <th>0b_kobest_sentineg</th>\n",
       "      <td>0.347502</td>\n",
       "      <td>0.529124</td>\n",
       "      <td>0.480641</td>\n",
       "      <td>0.788457</td>\n",
       "    </tr>\n",
       "  </tbody>\n",
       "</table>\n",
       "</div>"
      ],
      "text/plain": [
       "                           0         5         10        50\n",
       "0b_kobest_boolq      0.352050  0.563238  0.474788  0.419222\n",
       "0b_kobest_copa       0.562033  0.575982  0.576216  0.595532\n",
       "0b_kobest_hellaswag  0.415390  0.431382  0.421342  0.442003\n",
       "0b_kobest_sentineg   0.347502  0.529124  0.480641  0.788457"
      ]
     },
     "execution_count": 8,
     "metadata": {},
     "output_type": "execute_result"
    }
   ],
   "source": [
    "get_df(0)"
   ]
  },
  {
   "cell_type": "code",
   "execution_count": 9,
   "id": "38122a89-a099-4b2a-9dda-3589c1267967",
   "metadata": {},
   "outputs": [
    {
     "data": {
      "text/html": [
       "<div>\n",
       "<style scoped>\n",
       "    .dataframe tbody tr th:only-of-type {\n",
       "        vertical-align: middle;\n",
       "    }\n",
       "\n",
       "    .dataframe tbody tr th {\n",
       "        vertical-align: top;\n",
       "    }\n",
       "\n",
       "    .dataframe thead th {\n",
       "        text-align: right;\n",
       "    }\n",
       "</style>\n",
       "<table border=\"1\" class=\"dataframe\">\n",
       "  <thead>\n",
       "    <tr style=\"text-align: right;\">\n",
       "      <th></th>\n",
       "      <th>0</th>\n",
       "      <th>5</th>\n",
       "      <th>10</th>\n",
       "      <th>50</th>\n",
       "    </tr>\n",
       "  </thead>\n",
       "  <tbody>\n",
       "    <tr>\n",
       "      <th>20b_kobest_boolq</th>\n",
       "      <td>0.360656</td>\n",
       "      <td>0.679743</td>\n",
       "      <td>0.680109</td>\n",
       "      <td>0.662152</td>\n",
       "    </tr>\n",
       "    <tr>\n",
       "      <th>20b_kobest_copa</th>\n",
       "      <td>0.738780</td>\n",
       "      <td>0.762639</td>\n",
       "      <td>0.780761</td>\n",
       "      <td>0.797863</td>\n",
       "    </tr>\n",
       "    <tr>\n",
       "      <th>20b_kobest_hellaswag</th>\n",
       "      <td>0.451757</td>\n",
       "      <td>0.466751</td>\n",
       "      <td>0.472607</td>\n",
       "      <td>0.482776</td>\n",
       "    </tr>\n",
       "    <tr>\n",
       "      <th>20b_kobest_sentineg</th>\n",
       "      <td>0.485546</td>\n",
       "      <td>0.829503</td>\n",
       "      <td>0.871141</td>\n",
       "      <td>0.851253</td>\n",
       "    </tr>\n",
       "  </tbody>\n",
       "</table>\n",
       "</div>"
      ],
      "text/plain": [
       "                            0         5         10        50\n",
       "20b_kobest_boolq      0.360656  0.679743  0.680109  0.662152\n",
       "20b_kobest_copa       0.738780  0.762639  0.780761  0.797863\n",
       "20b_kobest_hellaswag  0.451757  0.466751  0.472607  0.482776\n",
       "20b_kobest_sentineg   0.485546  0.829503  0.871141  0.851253"
      ]
     },
     "execution_count": 9,
     "metadata": {},
     "output_type": "execute_result"
    }
   ],
   "source": [
    "get_df(20)"
   ]
  },
  {
   "cell_type": "code",
   "execution_count": 10,
   "id": "1a32b559-c469-448e-b1b2-6da21d2a4aa1",
   "metadata": {},
   "outputs": [
    {
     "data": {
      "text/html": [
       "<div>\n",
       "<style scoped>\n",
       "    .dataframe tbody tr th:only-of-type {\n",
       "        vertical-align: middle;\n",
       "    }\n",
       "\n",
       "    .dataframe tbody tr th {\n",
       "        vertical-align: top;\n",
       "    }\n",
       "\n",
       "    .dataframe thead th {\n",
       "        text-align: right;\n",
       "    }\n",
       "</style>\n",
       "<table border=\"1\" class=\"dataframe\">\n",
       "  <thead>\n",
       "    <tr style=\"text-align: right;\">\n",
       "      <th></th>\n",
       "      <th>0</th>\n",
       "      <th>5</th>\n",
       "      <th>10</th>\n",
       "      <th>50</th>\n",
       "    </tr>\n",
       "  </thead>\n",
       "  <tbody>\n",
       "    <tr>\n",
       "      <th>40b_kobest_boolq</th>\n",
       "      <td>0.578640</td>\n",
       "      <td>0.697747</td>\n",
       "      <td>0.708358</td>\n",
       "      <td>0.714423</td>\n",
       "    </tr>\n",
       "    <tr>\n",
       "      <th>40b_kobest_copa</th>\n",
       "      <td>0.743630</td>\n",
       "      <td>0.792716</td>\n",
       "      <td>0.803746</td>\n",
       "      <td>0.825944</td>\n",
       "    </tr>\n",
       "    <tr>\n",
       "      <th>40b_kobest_hellaswag</th>\n",
       "      <td>0.456246</td>\n",
       "      <td>0.465665</td>\n",
       "      <td>0.469810</td>\n",
       "      <td>0.477374</td>\n",
       "    </tr>\n",
       "    <tr>\n",
       "      <th>40b_kobest_sentineg</th>\n",
       "      <td>0.459447</td>\n",
       "      <td>0.761079</td>\n",
       "      <td>0.727611</td>\n",
       "      <td>0.936988</td>\n",
       "    </tr>\n",
       "  </tbody>\n",
       "</table>\n",
       "</div>"
      ],
      "text/plain": [
       "                            0         5         10        50\n",
       "40b_kobest_boolq      0.578640  0.697747  0.708358  0.714423\n",
       "40b_kobest_copa       0.743630  0.792716  0.803746  0.825944\n",
       "40b_kobest_hellaswag  0.456246  0.465665  0.469810  0.477374\n",
       "40b_kobest_sentineg   0.459447  0.761079  0.727611  0.936988"
      ]
     },
     "execution_count": 10,
     "metadata": {},
     "output_type": "execute_result"
    }
   ],
   "source": [
    "get_df(40)"
   ]
  },
  {
   "cell_type": "code",
   "execution_count": 11,
   "id": "ff3c7909-7e93-4b84-92fe-3c1b0c67d062",
   "metadata": {},
   "outputs": [],
   "source": [
    "# results/korean_origin_bench/20b/00_shot.json\n",
    "def get_df_klue(ckpt):\n",
    "    data = []\n",
    "    for i in ['00', '05', '10', '50']:\n",
    "        shot = f'./results/korean_origin_bench/{ckpt}b/{i}_shot.json'\n",
    "        try:\n",
    "            data.append({f'{ckpt}b_{k}': v.get('f1') or v.get('macro_f1') or v.get('acc') for k, v in json.load(open(shot))['results'].items()})\n",
    "        except FileNotFoundError:\n",
    "            pass\n",
    "    return pd.DataFrame(data, index=[0, 5, 10, 50][:len(data)]).T\n",
    "\n",
    "# results/korean_origin_bench/20b/00_shot.json\n",
    "def get_df_klue_polyglot(ckpt):\n",
    "    data = []\n",
    "    for i in [0, 5, 10, 50]:\n",
    "        shot = f'./results/korean_origin_bench/{ckpt}b/{i}_shot.json'\n",
    "        try:\n",
    "            data.append({f'{ckpt}b_{k}': v.get('f1') or v.get('macro_f1') or v.get('acc') for k, v in json.load(open(shot))['results'].items()})\n",
    "        except FileNotFoundError:\n",
    "            pass\n",
    "    return pd.DataFrame(data, index=[0, 5, 10, 50][:len(data)]).T"
   ]
  },
  {
   "cell_type": "code",
   "execution_count": 12,
   "id": "7e750826-4693-4676-8854-50cca1d35169",
   "metadata": {},
   "outputs": [
    {
     "data": {
      "text/html": [
       "<div>\n",
       "<style scoped>\n",
       "    .dataframe tbody tr th:only-of-type {\n",
       "        vertical-align: middle;\n",
       "    }\n",
       "\n",
       "    .dataframe tbody tr th {\n",
       "        vertical-align: top;\n",
       "    }\n",
       "\n",
       "    .dataframe thead th {\n",
       "        text-align: right;\n",
       "    }\n",
       "</style>\n",
       "<table border=\"1\" class=\"dataframe\">\n",
       "  <thead>\n",
       "    <tr style=\"text-align: right;\">\n",
       "      <th></th>\n",
       "      <th>0</th>\n",
       "      <th>5</th>\n",
       "    </tr>\n",
       "  </thead>\n",
       "  <tbody>\n",
       "    <tr>\n",
       "      <th>0b_klue_nli</th>\n",
       "      <td>0.330333</td>\n",
       "      <td>0.351667</td>\n",
       "    </tr>\n",
       "    <tr>\n",
       "      <th>0b_klue_sts</th>\n",
       "      <td>0.593496</td>\n",
       "      <td>0.313846</td>\n",
       "    </tr>\n",
       "    <tr>\n",
       "      <th>0b_klue_ynat</th>\n",
       "      <td>0.247357</td>\n",
       "      <td>0.296084</td>\n",
       "    </tr>\n",
       "    <tr>\n",
       "      <th>0b_kohatespeech</th>\n",
       "      <td>0.256448</td>\n",
       "      <td>0.365834</td>\n",
       "    </tr>\n",
       "    <tr>\n",
       "      <th>0b_kohatespeech_apeach</th>\n",
       "      <td>0.337667</td>\n",
       "      <td>0.486141</td>\n",
       "    </tr>\n",
       "    <tr>\n",
       "      <th>0b_kohatespeech_gen_bias</th>\n",
       "      <td>0.124535</td>\n",
       "      <td>0.497921</td>\n",
       "    </tr>\n",
       "    <tr>\n",
       "      <th>0b_korunsmile</th>\n",
       "      <td>0.299559</td>\n",
       "      <td>0.327706</td>\n",
       "    </tr>\n",
       "    <tr>\n",
       "      <th>0b_nsmc</th>\n",
       "      <td>0.549620</td>\n",
       "      <td>0.763800</td>\n",
       "    </tr>\n",
       "    <tr>\n",
       "      <th>0b_pawsx_ko</th>\n",
       "      <td>0.520000</td>\n",
       "      <td>0.518000</td>\n",
       "    </tr>\n",
       "  </tbody>\n",
       "</table>\n",
       "</div>"
      ],
      "text/plain": [
       "                                 0         5\n",
       "0b_klue_nli               0.330333  0.351667\n",
       "0b_klue_sts               0.593496  0.313846\n",
       "0b_klue_ynat              0.247357  0.296084\n",
       "0b_kohatespeech           0.256448  0.365834\n",
       "0b_kohatespeech_apeach    0.337667  0.486141\n",
       "0b_kohatespeech_gen_bias  0.124535  0.497921\n",
       "0b_korunsmile             0.299559  0.327706\n",
       "0b_nsmc                   0.549620  0.763800\n",
       "0b_pawsx_ko               0.520000  0.518000"
      ]
     },
     "execution_count": 12,
     "metadata": {},
     "output_type": "execute_result"
    }
   ],
   "source": [
    "get_df_klue(0) # Llama-2 Original"
   ]
  },
  {
   "cell_type": "code",
   "execution_count": 13,
   "id": "b287eccc-02a1-4f69-90b3-5420812140e5",
   "metadata": {},
   "outputs": [
    {
     "data": {
      "text/html": [
       "<div>\n",
       "<style scoped>\n",
       "    .dataframe tbody tr th:only-of-type {\n",
       "        vertical-align: middle;\n",
       "    }\n",
       "\n",
       "    .dataframe tbody tr th {\n",
       "        vertical-align: top;\n",
       "    }\n",
       "\n",
       "    .dataframe thead th {\n",
       "        text-align: right;\n",
       "    }\n",
       "</style>\n",
       "<table border=\"1\" class=\"dataframe\">\n",
       "  <thead>\n",
       "    <tr style=\"text-align: right;\">\n",
       "      <th></th>\n",
       "      <th>0</th>\n",
       "      <th>5</th>\n",
       "      <th>10</th>\n",
       "    </tr>\n",
       "  </thead>\n",
       "  <tbody>\n",
       "    <tr>\n",
       "      <th>20b_klue_nli</th>\n",
       "      <td>0.329000</td>\n",
       "      <td>0.345000</td>\n",
       "      <td>0.351333</td>\n",
       "    </tr>\n",
       "    <tr>\n",
       "      <th>20b_klue_sts</th>\n",
       "      <td>0.595399</td>\n",
       "      <td>0.563050</td>\n",
       "      <td>0.574436</td>\n",
       "    </tr>\n",
       "    <tr>\n",
       "      <th>20b_klue_ynat</th>\n",
       "      <td>0.372881</td>\n",
       "      <td>0.289226</td>\n",
       "      <td>0.292021</td>\n",
       "    </tr>\n",
       "    <tr>\n",
       "      <th>20b_kohatespeech</th>\n",
       "      <td>0.257906</td>\n",
       "      <td>0.353269</td>\n",
       "      <td>0.274473</td>\n",
       "    </tr>\n",
       "    <tr>\n",
       "      <th>20b_kohatespeech_apeach</th>\n",
       "      <td>0.337667</td>\n",
       "      <td>0.566589</td>\n",
       "      <td>0.572683</td>\n",
       "    </tr>\n",
       "    <tr>\n",
       "      <th>20b_kohatespeech_gen_bias</th>\n",
       "      <td>0.127236</td>\n",
       "      <td>0.496594</td>\n",
       "      <td>0.492181</td>\n",
       "    </tr>\n",
       "    <tr>\n",
       "      <th>20b_korunsmile</th>\n",
       "      <td>0.292199</td>\n",
       "      <td>0.321128</td>\n",
       "      <td>0.346743</td>\n",
       "    </tr>\n",
       "    <tr>\n",
       "      <th>20b_nsmc</th>\n",
       "      <td>0.604380</td>\n",
       "      <td>0.810180</td>\n",
       "      <td>0.860780</td>\n",
       "    </tr>\n",
       "    <tr>\n",
       "      <th>20b_pawsx_ko</th>\n",
       "      <td>0.494000</td>\n",
       "      <td>0.509500</td>\n",
       "      <td>0.524000</td>\n",
       "    </tr>\n",
       "  </tbody>\n",
       "</table>\n",
       "</div>"
      ],
      "text/plain": [
       "                                 0         5         10\n",
       "20b_klue_nli               0.329000  0.345000  0.351333\n",
       "20b_klue_sts               0.595399  0.563050  0.574436\n",
       "20b_klue_ynat              0.372881  0.289226  0.292021\n",
       "20b_kohatespeech           0.257906  0.353269  0.274473\n",
       "20b_kohatespeech_apeach    0.337667  0.566589  0.572683\n",
       "20b_kohatespeech_gen_bias  0.127236  0.496594  0.492181\n",
       "20b_korunsmile             0.292199  0.321128  0.346743\n",
       "20b_nsmc                   0.604380  0.810180  0.860780\n",
       "20b_pawsx_ko               0.494000  0.509500  0.524000"
      ]
     },
     "execution_count": 13,
     "metadata": {},
     "output_type": "execute_result"
    }
   ],
   "source": [
    "get_df_klue(20) # Llama-2-Ko 20B"
   ]
  },
  {
   "cell_type": "code",
   "execution_count": 14,
   "id": "3841b35d-dec6-43e6-b22f-fe3d032fae9c",
   "metadata": {},
   "outputs": [
    {
     "data": {
      "text/html": [
       "<div>\n",
       "<style scoped>\n",
       "    .dataframe tbody tr th:only-of-type {\n",
       "        vertical-align: middle;\n",
       "    }\n",
       "\n",
       "    .dataframe tbody tr th {\n",
       "        vertical-align: top;\n",
       "    }\n",
       "\n",
       "    .dataframe thead th {\n",
       "        text-align: right;\n",
       "    }\n",
       "</style>\n",
       "<table border=\"1\" class=\"dataframe\">\n",
       "  <thead>\n",
       "    <tr style=\"text-align: right;\">\n",
       "      <th></th>\n",
       "    </tr>\n",
       "  </thead>\n",
       "  <tbody>\n",
       "  </tbody>\n",
       "</table>\n",
       "</div>"
      ],
      "text/plain": [
       "Empty DataFrame\n",
       "Columns: []\n",
       "Index: []"
      ]
     },
     "execution_count": 14,
     "metadata": {},
     "output_type": "execute_result"
    }
   ],
   "source": [
    "get_df_klue(40) # Llama-2-Ko 40B"
   ]
  },
  {
   "cell_type": "code",
   "execution_count": 15,
   "id": "c3690944-9217-4d5b-851e-177638625111",
   "metadata": {},
   "outputs": [
    {
     "data": {
      "text/html": [
       "<div>\n",
       "<style scoped>\n",
       "    .dataframe tbody tr th:only-of-type {\n",
       "        vertical-align: middle;\n",
       "    }\n",
       "\n",
       "    .dataframe tbody tr th {\n",
       "        vertical-align: top;\n",
       "    }\n",
       "\n",
       "    .dataframe thead th {\n",
       "        text-align: right;\n",
       "    }\n",
       "</style>\n",
       "<table border=\"1\" class=\"dataframe\">\n",
       "  <thead>\n",
       "    <tr style=\"text-align: right;\">\n",
       "      <th></th>\n",
       "      <th>0</th>\n",
       "      <th>5</th>\n",
       "      <th>10</th>\n",
       "    </tr>\n",
       "  </thead>\n",
       "  <tbody>\n",
       "    <tr>\n",
       "      <th>polyglot-ko-1.3b_klue_nli</th>\n",
       "      <td>0.312667</td>\n",
       "      <td>0.340333</td>\n",
       "      <td>0.340333</td>\n",
       "    </tr>\n",
       "    <tr>\n",
       "      <th>polyglot-ko-1.3b_klue_sts</th>\n",
       "      <td>0.595399</td>\n",
       "      <td>0.437500</td>\n",
       "      <td>0.277286</td>\n",
       "    </tr>\n",
       "    <tr>\n",
       "      <th>polyglot-ko-1.3b_klue_ynat</th>\n",
       "      <td>0.332581</td>\n",
       "      <td>0.286008</td>\n",
       "      <td>0.294551</td>\n",
       "    </tr>\n",
       "    <tr>\n",
       "      <th>polyglot-ko-1.3b_kohatespeech</th>\n",
       "      <td>0.379466</td>\n",
       "      <td>0.352594</td>\n",
       "      <td>0.328610</td>\n",
       "    </tr>\n",
       "    <tr>\n",
       "      <th>polyglot-ko-1.3b_kohatespeech_apeach</th>\n",
       "      <td>0.338150</td>\n",
       "      <td>0.491640</td>\n",
       "      <td>0.490541</td>\n",
       "    </tr>\n",
       "    <tr>\n",
       "      <th>polyglot-ko-1.3b_kohatespeech_gen_bias</th>\n",
       "      <td>0.127236</td>\n",
       "      <td>0.473223</td>\n",
       "      <td>0.494066</td>\n",
       "    </tr>\n",
       "    <tr>\n",
       "      <th>polyglot-ko-1.3b_korunsmile</th>\n",
       "      <td>0.395329</td>\n",
       "      <td>0.323739</td>\n",
       "      <td>0.315747</td>\n",
       "    </tr>\n",
       "    <tr>\n",
       "      <th>polyglot-ko-1.3b_nsmc</th>\n",
       "      <td>0.579520</td>\n",
       "      <td>0.750960</td>\n",
       "      <td>0.789800</td>\n",
       "    </tr>\n",
       "    <tr>\n",
       "      <th>polyglot-ko-1.3b_pawsx_ko</th>\n",
       "      <td>0.454500</td>\n",
       "      <td>0.481500</td>\n",
       "      <td>0.468500</td>\n",
       "    </tr>\n",
       "  </tbody>\n",
       "</table>\n",
       "</div>"
      ],
      "text/plain": [
       "                                              0         5         10\n",
       "polyglot-ko-1.3b_klue_nli               0.312667  0.340333  0.340333\n",
       "polyglot-ko-1.3b_klue_sts               0.595399  0.437500  0.277286\n",
       "polyglot-ko-1.3b_klue_ynat              0.332581  0.286008  0.294551\n",
       "polyglot-ko-1.3b_kohatespeech           0.379466  0.352594  0.328610\n",
       "polyglot-ko-1.3b_kohatespeech_apeach    0.338150  0.491640  0.490541\n",
       "polyglot-ko-1.3b_kohatespeech_gen_bias  0.127236  0.473223  0.494066\n",
       "polyglot-ko-1.3b_korunsmile             0.395329  0.323739  0.315747\n",
       "polyglot-ko-1.3b_nsmc                   0.579520  0.750960  0.789800\n",
       "polyglot-ko-1.3b_pawsx_ko               0.454500  0.481500  0.468500"
      ]
     },
     "execution_count": 15,
     "metadata": {},
     "output_type": "execute_result"
    }
   ],
   "source": [
    "get_df_klue_polyglot('polyglot-ko-1.3')"
   ]
  },
  {
   "cell_type": "code",
   "execution_count": 18,
   "id": "75204ad9-3f45-4e0d-8c04-63808a533d8d",
   "metadata": {},
   "outputs": [
    {
     "data": {
      "text/html": [
       "<div>\n",
       "<style scoped>\n",
       "    .dataframe tbody tr th:only-of-type {\n",
       "        vertical-align: middle;\n",
       "    }\n",
       "\n",
       "    .dataframe tbody tr th {\n",
       "        vertical-align: top;\n",
       "    }\n",
       "\n",
       "    .dataframe thead th {\n",
       "        text-align: right;\n",
       "    }\n",
       "</style>\n",
       "<table border=\"1\" class=\"dataframe\">\n",
       "  <thead>\n",
       "    <tr style=\"text-align: right;\">\n",
       "      <th></th>\n",
       "    </tr>\n",
       "  </thead>\n",
       "  <tbody>\n",
       "  </tbody>\n",
       "</table>\n",
       "</div>"
      ],
      "text/plain": [
       "Empty DataFrame\n",
       "Columns: []\n",
       "Index: []"
      ]
     },
     "execution_count": 18,
     "metadata": {},
     "output_type": "execute_result"
    }
   ],
   "source": [
    "get_df_klue_polyglot('polyglot-ko-3.8')"
   ]
  },
  {
   "cell_type": "code",
   "execution_count": 17,
   "id": "508a24ba-640b-4e41-9914-c1531d693a5b",
   "metadata": {},
   "outputs": [
    {
     "data": {
      "text/html": [
       "<div>\n",
       "<style scoped>\n",
       "    .dataframe tbody tr th:only-of-type {\n",
       "        vertical-align: middle;\n",
       "    }\n",
       "\n",
       "    .dataframe tbody tr th {\n",
       "        vertical-align: top;\n",
       "    }\n",
       "\n",
       "    .dataframe thead th {\n",
       "        text-align: right;\n",
       "    }\n",
       "</style>\n",
       "<table border=\"1\" class=\"dataframe\">\n",
       "  <thead>\n",
       "    <tr style=\"text-align: right;\">\n",
       "      <th></th>\n",
       "    </tr>\n",
       "  </thead>\n",
       "  <tbody>\n",
       "  </tbody>\n",
       "</table>\n",
       "</div>"
      ],
      "text/plain": [
       "Empty DataFrame\n",
       "Columns: []\n",
       "Index: []"
      ]
     },
     "execution_count": 17,
     "metadata": {},
     "output_type": "execute_result"
    }
   ],
   "source": [
    "get_df_klue_polyglot('polyglot-ko-5.8')"
   ]
  },
  {
   "cell_type": "code",
   "execution_count": null,
   "id": "7b2c2e15-2a63-44a8-a31b-35bfc31ca50d",
   "metadata": {},
   "outputs": [],
   "source": []
  }
 ],
 "metadata": {
  "kernelspec": {
   "display_name": "Python 3 (ipykernel)",
   "language": "python",
   "name": "python3"
  },
  "language_info": {
   "codemirror_mode": {
    "name": "ipython",
    "version": 3
   },
   "file_extension": ".py",
   "mimetype": "text/x-python",
   "name": "python",
   "nbconvert_exporter": "python",
   "pygments_lexer": "ipython3",
   "version": "3.9.12"
  }
 },
 "nbformat": 4,
 "nbformat_minor": 5
}
