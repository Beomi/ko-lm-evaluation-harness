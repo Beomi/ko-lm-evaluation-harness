{
 "cells": [
  {
   "cell_type": "code",
   "execution_count": 1,
   "id": "b4870b9e-470e-4371-8ba2-8eb339070014",
   "metadata": {
    "execution": {
     "iopub.execute_input": "2023-10-30T01:23:39.957862Z",
     "iopub.status.busy": "2023-10-30T01:23:39.957688Z",
     "iopub.status.idle": "2023-10-30T01:23:39.961941Z",
     "shell.execute_reply": "2023-10-30T01:23:39.960939Z",
     "shell.execute_reply.started": "2023-10-30T01:23:39.957845Z"
    }
   },
   "outputs": [],
   "source": [
    "from glob import glob"
   ]
  },
  {
   "cell_type": "code",
   "execution_count": 2,
   "id": "f65f892b-5920-4259-952f-4096241389c7",
   "metadata": {
    "execution": {
     "iopub.execute_input": "2023-10-30T01:23:39.962614Z",
     "iopub.status.busy": "2023-10-30T01:23:39.962453Z",
     "iopub.status.idle": "2023-10-30T01:23:39.971569Z",
     "shell.execute_reply": "2023-10-30T01:23:39.970701Z",
     "shell.execute_reply.started": "2023-10-30T01:23:39.962599Z"
    }
   },
   "outputs": [
    {
     "data": {
      "text/plain": [
       "['./results/all/42MARU/GenAI-llama2-ko-en-platypus',\n",
       " './results/all/kyujinpy/KoR-Orca-Platypus-13B',\n",
       " './results/all/HumanF-MarkrAI/pub-llama-13B-v3',\n",
       " './results/all/jyoung105/KoR-Orca-Platypus-13B-neft']"
      ]
     },
     "execution_count": 2,
     "metadata": {},
     "output_type": "execute_result"
    }
   ],
   "source": [
    "ckpts = glob('./results/all/*/*')\n",
    "ckpts"
   ]
  },
  {
   "cell_type": "code",
   "execution_count": 3,
   "id": "d6f860f2-2f91-482d-9a83-9b2b9bc6c142",
   "metadata": {
    "execution": {
     "iopub.execute_input": "2023-10-30T01:23:39.972748Z",
     "iopub.status.busy": "2023-10-30T01:23:39.972521Z",
     "iopub.status.idle": "2023-10-30T01:23:39.980211Z",
     "shell.execute_reply": "2023-10-30T01:23:39.978022Z",
     "shell.execute_reply.started": "2023-10-30T01:23:39.972728Z"
    }
   },
   "outputs": [
    {
     "data": {
      "text/plain": [
       "['42MARU/GenAI-llama2-ko-en-platypus',\n",
       " 'kyujinpy/KoR-Orca-Platypus-13B',\n",
       " 'HumanF-MarkrAI/pub-llama-13B-v3',\n",
       " 'jyoung105/KoR-Orca-Platypus-13B-neft']"
      ]
     },
     "execution_count": 3,
     "metadata": {},
     "output_type": "execute_result"
    }
   ],
   "source": [
    "models = ['/'.join(i.split('/')[-2:]) for i in ckpts]\n",
    "models"
   ]
  },
  {
   "cell_type": "code",
   "execution_count": 4,
   "id": "0bc60934-a089-49d0-9873-ac6aaccfee55",
   "metadata": {
    "execution": {
     "iopub.execute_input": "2023-10-30T01:23:39.981827Z",
     "iopub.status.busy": "2023-10-30T01:23:39.981602Z",
     "iopub.status.idle": "2023-10-30T01:23:39.987709Z",
     "shell.execute_reply": "2023-10-30T01:23:39.986744Z",
     "shell.execute_reply.started": "2023-10-30T01:23:39.981807Z"
    }
   },
   "outputs": [],
   "source": [
    "from pathlib import Path"
   ]
  },
  {
   "cell_type": "code",
   "execution_count": 5,
   "id": "47ac548b-51c6-464f-a15c-96518f7a9b2f",
   "metadata": {
    "execution": {
     "iopub.execute_input": "2023-10-30T01:23:39.989484Z",
     "iopub.status.busy": "2023-10-30T01:23:39.988912Z",
     "iopub.status.idle": "2023-10-30T01:23:39.993731Z",
     "shell.execute_reply": "2023-10-30T01:23:39.992746Z",
     "shell.execute_reply.started": "2023-10-30T01:23:39.989452Z"
    }
   },
   "outputs": [],
   "source": [
    "BASE_DIR = Path('./results/all')"
   ]
  },
  {
   "cell_type": "code",
   "execution_count": 6,
   "id": "70842758-a22b-4144-9bd2-cfa606a47560",
   "metadata": {
    "execution": {
     "iopub.execute_input": "2023-10-30T01:23:39.995267Z",
     "iopub.status.busy": "2023-10-30T01:23:39.994962Z",
     "iopub.status.idle": "2023-10-30T01:23:40.252253Z",
     "shell.execute_reply": "2023-10-30T01:23:40.250824Z",
     "shell.execute_reply.started": "2023-10-30T01:23:39.995240Z"
    }
   },
   "outputs": [
    {
     "name": "stdout",
     "output_type": "stream",
     "text": [
      "/usr/local/bin/python\n"
     ]
    }
   ],
   "source": [
    "!which python"
   ]
  },
  {
   "cell_type": "code",
   "execution_count": 7,
   "id": "1fd4d5e4-8926-443c-84fb-575d3c3b68df",
   "metadata": {
    "execution": {
     "iopub.execute_input": "2023-10-30T01:23:40.258871Z",
     "iopub.status.busy": "2023-10-30T01:23:40.257956Z",
     "iopub.status.idle": "2023-10-30T01:23:40.271332Z",
     "shell.execute_reply": "2023-10-30T01:23:40.270072Z",
     "shell.execute_reply.started": "2023-10-30T01:23:40.258818Z"
    }
   },
   "outputs": [
    {
     "name": "stdout",
     "output_type": "stream",
     "text": [
      "CUDA_VISIBLE_DEVICES='###' python main.py --model hf-causal-experimental --model_args pretrained=42MARU/GenAI-llama2-ko-en-platypus,use_accelerate=true --tasks kobest_hellaswag,kobest_copa,kobest_boolq,kobest_sentineg,kohatespeech,kohatespeech_apeach,kohatespeech_gen_bias,korunsmile,nsmc,pawsx_ko --num_fewshot 50 --no_cache --batch_size 4 --output_path results/all/42MARU/GenAI-llama2-ko-en-platypus/50_shot.json\n",
      "CUDA_VISIBLE_DEVICES='###' python main.py --model hf-causal-experimental --model_args pretrained=kyujinpy/KoR-Orca-Platypus-13B,use_accelerate=true --tasks kobest_hellaswag,kobest_copa,kobest_boolq,kobest_sentineg,kohatespeech,kohatespeech_apeach,kohatespeech_gen_bias,korunsmile,nsmc,pawsx_ko --num_fewshot 50 --no_cache --batch_size 4 --output_path results/all/kyujinpy/KoR-Orca-Platypus-13B/50_shot.json\n",
      "CUDA_VISIBLE_DEVICES='###' python main.py --model hf-causal-experimental --model_args pretrained=HumanF-MarkrAI/pub-llama-13B-v3,use_accelerate=true --tasks kobest_hellaswag,kobest_copa,kobest_boolq,kobest_sentineg,kohatespeech,kohatespeech_apeach,kohatespeech_gen_bias,korunsmile,nsmc,pawsx_ko --num_fewshot 50 --no_cache --batch_size 4 --output_path results/all/HumanF-MarkrAI/pub-llama-13B-v3/50_shot.json\n"
     ]
    }
   ],
   "source": [
    "RESULT_DIR='results/all'\n",
    "TASKS='kobest_hellaswag,kobest_copa,kobest_boolq,kobest_sentineg,kohatespeech,kohatespeech_apeach,kohatespeech_gen_bias,korunsmile,nsmc,pawsx_ko'\n",
    "for model in models:\n",
    "    for n in [0, 5, 10, 50]:\n",
    "        if (BASE_DIR / model / f'{n}_shot.json').exists():\n",
    "            continue\n",
    "        else:\n",
    "            print(f'''CUDA_VISIBLE_DEVICES='###' python main.py \\\n",
    "--model hf-causal-experimental \\\n",
    "--model_args pretrained={model},use_accelerate=true \\\n",
    "--tasks {TASKS} \\\n",
    "--num_fewshot {n} \\\n",
    "--no_cache \\\n",
    "--batch_size 4 \\\n",
    "--output_path {RESULT_DIR}/{model}/{n}_shot.json''')"
   ]
  },
  {
   "cell_type": "code",
   "execution_count": 8,
   "id": "bd4ffe67-de0c-4d46-bd1b-7a5be84e99ab",
   "metadata": {
    "execution": {
     "iopub.execute_input": "2023-10-30T01:23:40.273553Z",
     "iopub.status.busy": "2023-10-30T01:23:40.272896Z",
     "iopub.status.idle": "2023-10-30T01:23:40.278508Z",
     "shell.execute_reply": "2023-10-30T01:23:40.277422Z",
     "shell.execute_reply.started": "2023-10-30T01:23:40.273514Z"
    },
    "tags": []
   },
   "outputs": [],
   "source": [
    "# CUDA_VISIBLE_DEVICES='0' python main.py --model hf-causal-experimental --model_args pretrained=HumanF-MarkrAI/pub-llama-13B-v3,use_accelerate=true --tasks kobest_hellaswag,kobest_copa,kobest_boolq,kobest_sentineg,kohatespeech,kohatespeech_apeach,kohatespeech_gen_bias,korunsmile,nsmc,pawsx_ko --num_fewshot 50 --no_cache --batch_size 4 --output_path results/all/HumanF-MarkrAI/pub-llama-13B-v3/50_shot.json\n",
    "# CUDA_VISIBLE_DEVICES='1' python main.py --model hf-causal-experimental --model_args pretrained=42MARU/GenAI-llama2-ko-en-platypus,use_accelerate=true --tasks kobest_hellaswag,kobest_copa,kobest_boolq,kobest_sentineg,kohatespeech,kohatespeech_apeach,kohatespeech_gen_bias,korunsmile,nsmc,pawsx_ko --num_fewshot 50 --no_cache --batch_size 4 --output_path results/all/42MARU/GenAI-llama2-ko-en-platypus/50_shot.json\n"
   ]
  }
 ],
 "metadata": {
  "kernelspec": {
   "display_name": "Python 3 (ipykernel)",
   "language": "python",
   "name": "python3"
  },
  "language_info": {
   "codemirror_mode": {
    "name": "ipython",
    "version": 3
   },
   "file_extension": ".py",
   "mimetype": "text/x-python",
   "name": "python",
   "nbconvert_exporter": "python",
   "pygments_lexer": "ipython3",
   "version": "3.10.12"
  }
 },
 "nbformat": 4,
 "nbformat_minor": 5
}
